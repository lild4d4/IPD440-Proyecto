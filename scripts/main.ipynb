{
  "nbformat": 4,
  "nbformat_minor": 0,
  "metadata": {
    "colab": {
      "provenance": [],
      "authorship_tag": "ABX9TyNUONN9QNE3FTln4em4209U",
      "include_colab_link": true
    },
    "kernelspec": {
      "name": "python3",
      "display_name": "Python 3"
    },
    "language_info": {
      "name": "python"
    }
  },
  "cells": [
    {
      "cell_type": "markdown",
      "metadata": {
        "id": "view-in-github",
        "colab_type": "text"
      },
      "source": [
        "<a href=\"https://colab.research.google.com/github/lild4d4/IPD440-Proyecto/blob/main/scripts/main.ipynb\" target=\"_parent\"><img src=\"https://colab.research.google.com/assets/colab-badge.svg\" alt=\"Open In Colab\"/></a>"
      ]
    },
    {
      "cell_type": "markdown",
      "source": [
        "# Final Project: Clasification\n",
        "\n",
        "|Name|Rol|Rut|Email|\n",
        "|:--:|:----------:|:----------:|:----------:|\n",
        "| Daniel Arevalos Ortiz| 201704124-2 | 20211697-3 | daniel.arevalos@sansano.usm.cl"
      ],
      "metadata": {
        "id": "-rxEZoXKQbWQ"
      }
    },
    {
      "cell_type": "code",
      "execution_count": 4,
      "metadata": {
        "colab": {
          "base_uri": "https://localhost:8080/"
        },
        "id": "L-VzGXFCI9tq",
        "outputId": "6549077b-4718-45d7-a91c-7f51191de427"
      },
      "outputs": [
        {
          "output_type": "stream",
          "name": "stdout",
          "text": [
            "mkdir: cannot create directory ‘dataset’: File exists\n",
            "/usr/local/lib/python3.10/dist-packages/gdown/cli.py:121: FutureWarning: Option `--id` was deprecated in version 4.3.1 and will be removed in 5.0. You don't need to pass it anymore to use a file ID.\n",
            "  warnings.warn(\n",
            "Downloading...\n",
            "From: https://drive.google.com/uc?id=1CtgKiZoR20nu9fnLnX6pwLA1Ld8zmSW4\n",
            "To: /content/dataset/archive.zip\n",
            "100% 3.96G/3.96G [00:30<00:00, 132MB/s]\n"
          ]
        }
      ],
      "source": [
        "#@title Install dependencies {display-mode: \"form\"}\n",
        "#@markdown - Click the ▷ button to setup the environment.\n",
        "\n",
        "!mkdir dataset\n",
        "!cd dataset && gdown --id 1CtgKiZoR20nu9fnLnX6pwLA1Ld8zmSW4"
      ]
    },
    {
      "cell_type": "code",
      "source": [
        "!cd dataset && unzip *.zip &> /dev/null"
      ],
      "metadata": {
        "id": "ZfqBt8r5Y8Tm"
      },
      "execution_count": null,
      "outputs": []
    },
    {
      "cell_type": "code",
      "source": [],
      "metadata": {
        "id": "Eqfq0CB9bFQa"
      },
      "execution_count": null,
      "outputs": []
    }
  ]
}